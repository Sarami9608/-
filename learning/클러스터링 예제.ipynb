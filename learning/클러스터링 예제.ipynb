{
 "cells": [
  {
   "cell_type": "code",
   "execution_count": 43,
   "id": "29cda54d",
   "metadata": {},
   "outputs": [],
   "source": [
    "from sklearn.cluster import KMeans\n",
    "import pandas as pd \n",
    "import numpy as np"
   ]
  },
  {
   "cell_type": "code",
   "execution_count": 44,
   "id": "d64a3d36",
   "metadata": {},
   "outputs": [],
   "source": [
    "data = pd.read_csv('./../power_consumption_data.csv')"
   ]
  },
  {
   "cell_type": "code",
   "execution_count": 45,
   "id": "f4932031",
   "metadata": {},
   "outputs": [],
   "source": [
    "data1 = data[['power_consumption']]"
   ]
  },
  {
   "cell_type": "code",
   "execution_count": 55,
   "id": "155279e0",
   "metadata": {},
   "outputs": [
    {
     "name": "stdout",
     "output_type": "stream",
     "text": [
      "[[ 10]\n",
      " [  1]\n",
      " [100]]\n",
      "[2 0 1]\n"
     ]
    },
    {
     "name": "stderr",
     "output_type": "stream",
     "text": [
      "C:\\Users\\young\\AppData\\Local\\Packages\\PythonSoftwareFoundation.Python.3.10_qbz5n2kfra8p0\\LocalCache\\local-packages\\Python310\\site-packages\\sklearn\\cluster\\_kmeans.py:870: FutureWarning: The default value of `n_init` will change from 10 to 'auto' in 1.4. Set the value of `n_init` explicitly to suppress the warning\n",
      "  warnings.warn(\n",
      "C:\\Users\\young\\AppData\\Local\\Packages\\PythonSoftwareFoundation.Python.3.10_qbz5n2kfra8p0\\LocalCache\\local-packages\\Python310\\site-packages\\sklearn\\base.py:439: UserWarning: X does not have valid feature names, but KMeans was fitted with feature names\n",
      "  warnings.warn(\n"
     ]
    }
   ],
   "source": [
    "\n",
    "\n",
    "# 예시 데이터\n",
    "# data = [[1], [1.5], [3], [5], [3.5], [4], [3.8], [6], [8], [7.5], [9]]\n",
    "\n",
    "# KMeans 모델 초기화\n",
    "kmeans = KMeans(n_clusters=3, random_state=0)\n",
    "\n",
    "# 모델 학습\n",
    "kmeans.fit(data1)\n",
    "\n",
    "# new 데이터에 대한 분류\n",
    "new_data = np.array([10,1,100]).reshape(-1,1)\n",
    "print(new_data)\n",
    "\n",
    "predict_label = kmeans.predict(new_data)\n",
    "print(predict_label)\n",
    "# 클러스터링 결과 출력\n",
    "clust_list = []\n",
    "for i, label in enumerate(kmeans.labels_):\n",
    "    clust_list.append(label+1)    \n"
   ]
  },
  {
   "cell_type": "code",
   "execution_count": null,
   "id": "3d6502f2",
   "metadata": {},
   "outputs": [],
   "source": [
    "clust_s = pd.Series(clust_list)\n",
    "clust_s.name = \"power_clust\""
   ]
  },
  {
   "cell_type": "code",
   "execution_count": null,
   "id": "2be74574",
   "metadata": {},
   "outputs": [
    {
     "data": {
      "text/plain": [
       "1    23400\n",
       "2    12600\n",
       "3     7200\n",
       "Name: power_clust, dtype: int64"
      ]
     },
     "execution_count": 33,
     "metadata": {},
     "output_type": "execute_result"
    }
   ],
   "source": [
    "clust_s.value_counts()"
   ]
  },
  {
   "cell_type": "code",
   "execution_count": null,
   "id": "ac4f49f6",
   "metadata": {},
   "outputs": [],
   "source": [
    "rs = pd.concat([data, clust_s], axis = 1)"
   ]
  },
  {
   "cell_type": "code",
   "execution_count": null,
   "id": "14aca09a",
   "metadata": {},
   "outputs": [],
   "source": [
    "rs.to_csv('clustering.csv')"
   ]
  },
  {
   "cell_type": "code",
   "execution_count": null,
   "id": "fa65ac87",
   "metadata": {},
   "outputs": [],
   "source": []
  }
 ],
 "metadata": {
  "kernelspec": {
   "display_name": "Python 3 (ipykernel)",
   "language": "python",
   "name": "python3"
  },
  "language_info": {
   "codemirror_mode": {
    "name": "ipython",
    "version": 3
   },
   "file_extension": ".py",
   "mimetype": "text/x-python",
   "name": "python",
   "nbconvert_exporter": "python",
   "pygments_lexer": "ipython3",
   "version": "3.10.10"
  }
 },
 "nbformat": 4,
 "nbformat_minor": 5
}
